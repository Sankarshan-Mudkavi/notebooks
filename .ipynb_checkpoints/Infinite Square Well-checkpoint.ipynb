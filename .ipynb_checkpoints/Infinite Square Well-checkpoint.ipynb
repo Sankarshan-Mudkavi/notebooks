{
 "metadata": {
  "name": "",
  "signature": "sha256:358097c38290a75b3759c241318e773e8fc2299f2fb3552f0333097894f5bf48"
 },
 "nbformat": 3,
 "nbformat_minor": 0,
 "worksheets": [
  {
   "cells": [
    {
     "cell_type": "heading",
     "level": 1,
     "metadata": {},
     "source": [
      "Infinite Square Well"
     ]
    },
    {
     "cell_type": "markdown",
     "metadata": {},
     "source": [
      "Assuming that $\\psi(x) = A\\cos(kx) + B\\sin(kx)$ we can use Schrodenger's Equation to solve for the coefficents. \n",
      "\n",
      "### If the function is even then...\n",
      "\n",
      "$$ \\psi (x) = A \\cos(kx) $$\n",
      "\n",
      "By first solving for the boundaries, we know that at $L/2$, the function must be $0$ since the potential is infinite.\n",
      "\n",
      "$$ \\psi(L/2) = A \\cos(kx) = 0 \\Rightarrow k = \\frac{n\\pi}{L}, \\ \\ n = 1, 3, 5 \\dots$$\n",
      "\n",
      "### We also require that the function integrates to $1$\n",
      "\n",
      "$$ 1 = |A|^2 \\int_{-L/2}^{L/2} \\cos^2(n \\pi x / L) \\Rightarrow 1 = \\frac{|A|^2}{L} \\Rightarrow A = \\sqrt{\\frac{2}{L}}$$\n",
      "\n",
      "### If the function is odd then...\n",
      "\n",
      "$$ \\psi (x) = B \\sin(kx) $$\n",
      "\n",
      "By first solving for the boundaries, we know that at $L$, the function must be $0$ since the potential is infinite.\n",
      "\n",
      "$$ \\psi(L) = B \\sin(kx) = 0 \\Rightarrow k = \\frac{n\\pi}{L}, \\ \\ n = 2, 4, 6 \\dots$$\n",
      "\n",
      "### We also require that the function integrates to $1$\n",
      "\n",
      "$$ 1 = |B|^2 \\int_{0}^{L} \\sin^2(n \\pi x / L) \\Rightarrow 1 = \\frac{|B|^2}{L} \\Rightarrow B = \\sqrt{\\frac{2}{L}} $$\n",
      "\n",
      "## Think about it.\n",
      "\n",
      "All this means that all even energies are sines and all odd energries are cosines."
     ]
    },
    {
     "cell_type": "heading",
     "level": 1,
     "metadata": {},
     "source": [
      "Some Help for question 2"
     ]
    },
    {
     "cell_type": "markdown",
     "metadata": {},
     "source": [
      "Let use first begin with some notation. $\\psi_n^b(x)$ means that is is the $n^{th}$ sate of a box in size $b$.\n",
      "\n",
      "Let this well then expand instantly from $a$ to $2a$.\n",
      "\n",
      "## What is the probability of measuring the new ground state given the particle was in the old one?\n",
      "\n",
      "$$ P(new|old) = \\left| \\int_{-\\infty}^{\\infty} {\\psi_{new}(x)}^*\\psi(x)dx \\right|\n",
      "^2 $$\n",
      "\n",
      "Note that $ P(\\psi_{even} | \\psi_{odd}) = 0$ and use this to help use figure out.\n",
      "\n",
      "$$  $$"
     ]
    },
    {
     "cell_type": "code",
     "collapsed": false,
     "input": [
      "%pylab inline"
     ],
     "language": "python",
     "metadata": {},
     "outputs": [
      {
       "output_type": "stream",
       "stream": "stdout",
       "text": [
        "Populating the interactive namespace from numpy and matplotlib\n"
       ]
      }
     ],
     "prompt_number": 3
    },
    {
     "cell_type": "code",
     "collapsed": false,
     "input": [
      "L = 10\n",
      "x_old = np.linspace(0, 2*L, 200)\n",
      "x_new = np.linspace(0, 2*L, 200)\n",
      "\n",
      "psi_old_ground = np.sqrt(2/L) * np.cos(np.pi * x_old / L)\n",
      "psi_new = np.sqrt(1/L) * np.cos(np.pi * x_new / (2*L))\n",
      "\n",
      "plot(x_old, psi_old_ground)\n",
      "plot(x_new, psi_new)\n",
      "title(\"Plot of $\\psi_1^{2a}$ and $\\psi_1^{a}$\")\n",
      "xlabel(\"Well, Well, Well\")\n",
      "ylim([0, .5])\n",
      "plot(x_new, psi_old_ground*psi_new)"
     ],
     "language": "python",
     "metadata": {},
     "outputs": [
      {
       "metadata": {},
       "output_type": "pyout",
       "prompt_number": 19,
       "text": [
        "[<matplotlib.lines.Line2D at 0x108c28b70>]"
       ]
      },
      {
       "metadata": {},
       "output_type": "display_data",
       "png": "[encoded data removed]",
       "text": [
        "<matplotlib.figure.Figure at 0x108c3def0>"
       ]
      }
     ],
     "prompt_number": 19
    },
    {
     "cell_type": "code",
     "collapsed": false,
     "input": [],
     "language": "python",
     "metadata": {},
     "outputs": []
    }
   ],
   "metadata": {}
  }
 ]
}