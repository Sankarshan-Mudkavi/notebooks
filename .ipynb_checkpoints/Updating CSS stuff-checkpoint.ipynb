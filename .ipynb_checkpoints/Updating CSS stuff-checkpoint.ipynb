{
 "metadata": {
  "name": "",
  "signature": "sha256:fe0254f14893136ff16e893d79a0eaf1612c350527d22ed915c90e27c40094bf"
 },
 "nbformat": 3,
 "nbformat_minor": 0,
 "worksheets": [
  {
   "cells": [
    {
     "cell_type": "code",
     "collapsed": false,
     "input": [
      "%%bash\n",
      "ipython locate"
     ],
     "language": "python",
     "metadata": {},
     "outputs": [
      {
       "output_type": "stream",
       "stream": "stdout",
       "text": [
        "/Users/JasonLiu/.ipython\n"
       ]
      }
     ],
     "prompt_number": 1
    },
    {
     "cell_type": "code",
     "collapsed": false,
     "input": [
      "%%bash\n",
      "mkdir ~/.ipython/profile_customcss/static/\n",
      "mkdir ~/.ipython/profile_customcss/static/custom/\n",
      "touch ~/.ipython/profile_customcss/static/custom/custom.css"
     ],
     "language": "python",
     "metadata": {},
     "outputs": [
      {
       "output_type": "stream",
       "stream": "stderr",
       "text": [
        "mkdir: /Users/JasonLiu/.ipython/profile_customcss: No such file or directory\n",
        "mkdir: /Users/JasonLiu/.ipython/profile_customcss/static: No such file or directory\n",
        "touch: /Users/JasonLiu/.ipython/profile_customcss/static/custom/custom.css: No such file or directory\n"
       ]
      }
     ],
     "prompt_number": 3
    },
    {
     "cell_type": "code",
     "collapsed": false,
     "input": [
      "%%bash\n",
      "ipython profile create jxnl\n"
     ],
     "language": "python",
     "metadata": {},
     "outputs": [
      {
       "output_type": "stream",
       "stream": "stderr",
       "text": [
        "[ProfileCreate] Generating default config file: '/Users/JasonLiu/.ipython/profile_jxnl/ipython_config.py'\n",
        "[ProfileCreate] Generating default config file: '/Users/JasonLiu/.ipython/profile_jxnl/ipython_notebook_config.py'\n",
        "[ProfileCreate] Generating default config file: '/Users/JasonLiu/.ipython/profile_jxnl/ipython_nbconvert_config.py'\n"
       ]
      }
     ],
     "prompt_number": 2
    },
    {
     "cell_type": "code",
     "collapsed": false,
     "input": [
      "%%file /Users/JasonLiu/.ipython/profile_jxnl/static/custom/custom.css\n",
      "/**write your css in here**/\n",
      "/* like */\n",
      "\n",
      "<style>\n",
      "    *{\n",
      "        font-size: 15pt;\n",
      "    }\n",
      "    div.cell{\n",
      "        max-width:750px;\n",
      "        margin-left:auto;\n",
      "        margin-right:auto;\n",
      "    }\n",
      "\n",
      "    h1 {\n",
      "        text-align:center;\n",
      "    }\n",
      "    \n",
      "    .rendered_html ol {\n",
      "         list-style:decimal; \n",
      "         margin: 1em 2em;}\n",
      "    div.text_cell {\n",
      "    width: 105ex /* instead of 100%, */\n",
      "\n",
      "    }\n",
      "\n",
      "    div.text_cell_render {\n",
      "        font-family: \"CMU Sans Serif\", \"Helvetica Neue\", Arial, Helvetica, Geneva, sans-serif;\n",
      "        /*font-family: \"Charis SIL\", serif; /* Make non-code text serif. */\n",
      "        line-height: 145%; /* added for some line spacing of text. */\n",
      "        width: 105ex; /* instead of 'inherit' for shorter lines */\n",
      "    }\n",
      "    \n",
      "    div.text_cell_render h1 {\n",
      "        font-size: 18pt;\n",
      "    }\n",
      "\n",
      "    div.text_cell_render h2 {\n",
      "        font-size: 14pt;\n",
      "    }\n",
      "\n",
      "</style>"
     ],
     "language": "python",
     "metadata": {},
     "outputs": [
      {
       "output_type": "stream",
       "stream": "stdout",
       "text": [
        "Overwriting /Users/JasonLiu/.ipython/profile_jxnl/static/custom/custom.css\n"
       ]
      }
     ],
     "prompt_number": 1
    },
    {
     "cell_type": "markdown",
     "metadata": {},
     "source": [
      "An h1 header\n",
      "============\n",
      "\n",
      "Paragraphs are separated by a blank line.\n",
      "\n",
      "2nd paragraph. *Italic*, **bold**, and `monospace`. Itemized lists\n",
      "look like:\n",
      "\n",
      "  * this one\n",
      "  * that one\n",
      "  * the other one\n",
      "\n",
      "Note that --- not considering the asterisk --- the actual text\n",
      "content starts at 4-columns in.\n",
      "\n",
      "> Block quotes are\n",
      "> written like so.\n",
      ">\n",
      "> They can span multiple paragraphs,\n",
      "> if you like.\n",
      "\n",
      "Use 3 dashes for an em-dash. Use 2 dashes for ranges (ex., \"it's all\n",
      "in chapters 12--14\"). Three dots ... will be converted to an ellipsis.\n",
      "\n",
      "\n",
      "\n",
      "An h2 header\n",
      "------------\n",
      "\n",
      "Here's a numbered list:\n",
      "\n",
      " 1. first item\n",
      " 2. second item\n",
      " 3. third item\n",
      "\n",
      "Note again how the actual text starts at 4 columns in (4 characters\n",
      "from the left side). Here's a code sample:\n",
      "\n",
      "    # Let me re-iterate ...\n",
      "    for i in 1 .. 10 { do-something(i) }\n",
      "\n",
      "As you probably guessed, indented 4 spaces. By the way, instead of\n",
      "indenting the block, you can use delimited blocks, if you like:\n",
      "\n",
      "~~~\n",
      "define foobar() {\n",
      "    print \"Welcome to flavor country!\";\n",
      "}\n",
      "~~~\n",
      "\n",
      "(which makes copying & pasting easier). You can optionally mark the\n",
      "delimited block for Pandoc to syntax highlight it:\n",
      "\n",
      "~~~python\n",
      "import time\n",
      "# Quick, count to ten!\n",
      "for i in range(10):\n",
      "    # (but not *too* quick)\n",
      "    time.sleep(0.5)\n",
      "    print i\n",
      "~~~\n",
      "\n",
      "\n",
      "\n",
      "### An h3 header ###\n",
      "\n",
      "Now a nested list:\n",
      "\n",
      " 1. First, get these ingredients:\n",
      "\n",
      "      * carrots\n",
      "      * celery\n",
      "      * lentils\n",
      "\n",
      " 2. Boil some water.\n",
      "\n",
      " 3. Dump everything in the pot and follow\n",
      "    this algorithm:\n",
      "\n",
      "        find wooden spoon\n",
      "        uncover pot\n",
      "        stir\n",
      "        cover pot\n",
      "        balance wooden spoon precariously on pot handle\n",
      "        wait 10 minutes\n",
      "        goto first step (or shut off burner when done)\n",
      "\n",
      "    Do not bump wooden spoon or it will fall.\n",
      "\n",
      "\n",
      "Again, text is indented 4 spaces. (Alternately, put blank lines in\n",
      "between each of the above definition list lines to spread things\n",
      "out more.)\n",
      "\n",
      "Inline math equations go in like so: $\\omega = d\\phi / dt$. Display\n",
      "math should get its own line and be put in in double-dollarsigns:\n",
      "\n",
      "$$I = \\int \\rho R^{2} dV$$\n",
      "\n",
      "And note that you can backslash-escape any punctuation characters\n",
      "which you wish to be displayed literally, ex.: \\`foo\\`, \\*bar\\*, etc.\n",
      "\n",
      "Done."
     ]
    },
    {
     "cell_type": "code",
     "collapsed": false,
     "input": [],
     "language": "python",
     "metadata": {},
     "outputs": []
    }
   ],
   "metadata": {}
  }
 ]
}