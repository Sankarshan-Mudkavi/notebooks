{
 "metadata": {
  "name": "",
  "signature": "sha256:3c5828de5d06225cc471a0931932677bdc925249f30cc328fdf27200b164f6fc"
 },
 "nbformat": 3,
 "nbformat_minor": 0,
 "worksheets": [
  {
   "cells": [
    {
     "cell_type": "code",
     "collapsed": false,
     "input": [
      "%pylab inline\n",
      "figsize(12, 6)"
     ],
     "language": "python",
     "metadata": {},
     "outputs": [
      {
       "output_type": "stream",
       "stream": "stdout",
       "text": [
        "Populating the interactive namespace from numpy and matplotlib\n"
       ]
      }
     ],
     "prompt_number": 2
    },
    {
     "cell_type": "code",
     "collapsed": false,
     "input": [
      "import pandas as pd\n",
      "fbi_data = pd.read_csv('fbi.csv', index_col=['id'])"
     ],
     "language": "python",
     "metadata": {},
     "outputs": [],
     "prompt_number": 3
    },
    {
     "cell_type": "code",
     "collapsed": false,
     "input": [
      "fbi_data.head()"
     ],
     "language": "python",
     "metadata": {},
     "outputs": [
      {
       "html": [
        "<div style=\"max-height:1000px;max-width:1500px;overflow:auto;\">\n",
        "<table border=\"1\" class=\"dataframe\">\n",
        "  <thead>\n",
        "    <tr style=\"text-align: right;\">\n",
        "      <th></th>\n",
        "      <th>name</th>\n",
        "      <th>date_put_on_list</th>\n",
        "      <th>follow_up_date</th>\n",
        "      <th>result</th>\n",
        "    </tr>\n",
        "    <tr>\n",
        "      <th>id</th>\n",
        "      <th></th>\n",
        "      <th></th>\n",
        "      <th></th>\n",
        "      <th></th>\n",
        "    </tr>\n",
        "  </thead>\n",
        "  <tbody>\n",
        "    <tr>\n",
        "      <th>1</th>\n",
        "      <td>     Thomas James Holden</td>\n",
        "      <td> 3/14/1950</td>\n",
        "      <td>  6/23/1951</td>\n",
        "      <td>       Oregon</td>\n",
        "    </tr>\n",
        "    <tr>\n",
        "      <th>2</th>\n",
        "      <td>      Morley Vernon King</td>\n",
        "      <td> 3/15/1950</td>\n",
        "      <td> 10/31/1951</td>\n",
        "      <td> Pennsylvania</td>\n",
        "    </tr>\n",
        "    <tr>\n",
        "      <th>3</th>\n",
        "      <td>  William Raymond Nesbit</td>\n",
        "      <td> 3/16/1950</td>\n",
        "      <td>  3/18/1950</td>\n",
        "      <td>    Minnesota</td>\n",
        "    </tr>\n",
        "    <tr>\n",
        "      <th>4</th>\n",
        "      <td> Henry Randolph Mitchell</td>\n",
        "      <td> 3/17/1950</td>\n",
        "      <td>  7/18/1958</td>\n",
        "      <td>    Dismissed</td>\n",
        "    </tr>\n",
        "    <tr>\n",
        "      <th>5</th>\n",
        "      <td>      Omar August Pinson</td>\n",
        "      <td> 3/18/1950</td>\n",
        "      <td>  8/28/1950</td>\n",
        "      <td> South Dakota</td>\n",
        "    </tr>\n",
        "  </tbody>\n",
        "</table>\n",
        "</div>"
       ],
       "metadata": {},
       "output_type": "pyout",
       "prompt_number": 4,
       "text": [
        "                       name date_put_on_list follow_up_date        result\n",
        "id                                                                       \n",
        "1       Thomas James Holden        3/14/1950      6/23/1951        Oregon\n",
        "2        Morley Vernon King        3/15/1950     10/31/1951  Pennsylvania\n",
        "3    William Raymond Nesbit        3/16/1950      3/18/1950     Minnesota\n",
        "4   Henry Randolph Mitchell        3/17/1950      7/18/1958     Dismissed\n",
        "5        Omar August Pinson        3/18/1950      8/28/1950  South Dakota"
       ]
      }
     ],
     "prompt_number": 4
    },
    {
     "cell_type": "code",
     "collapsed": false,
     "input": [
      "fbi_data.tail()"
     ],
     "language": "python",
     "metadata": {},
     "outputs": [
      {
       "html": [
        "<div style=\"max-height:1000px;max-width:1500px;overflow:auto;\">\n",
        "<table border=\"1\" class=\"dataframe\">\n",
        "  <thead>\n",
        "    <tr style=\"text-align: right;\">\n",
        "      <th></th>\n",
        "      <th>name</th>\n",
        "      <th>date_put_on_list</th>\n",
        "      <th>follow_up_date</th>\n",
        "      <th>result</th>\n",
        "    </tr>\n",
        "    <tr>\n",
        "      <th>id</th>\n",
        "      <th></th>\n",
        "      <th></th>\n",
        "      <th></th>\n",
        "      <th></th>\n",
        "    </tr>\n",
        "  </thead>\n",
        "  <tbody>\n",
        "    <tr>\n",
        "      <th>496</th>\n",
        "      <td>       Adam Christopher Mayes</td>\n",
        "      <td> 05/09/2012</td>\n",
        "      <td>  5/10/2012</td>\n",
        "      <td> Mississippi</td>\n",
        "    </tr>\n",
        "    <tr>\n",
        "      <th>497</th>\n",
        "      <td>                 Fidel Urbina</td>\n",
        "      <td> 03/14/2013</td>\n",
        "      <td>        NaN</td>\n",
        "      <td>  Not caught</td>\n",
        "    </tr>\n",
        "    <tr>\n",
        "      <th>498</th>\n",
        "      <td> Edwin Ernesto Rivera Gracias</td>\n",
        "      <td> 03/17/2013</td>\n",
        "      <td> 03/27/2013</td>\n",
        "      <td> El Salvador</td>\n",
        "    </tr>\n",
        "    <tr>\n",
        "      <th>499</th>\n",
        "      <td>    Jose Manuel Garcia Guevra</td>\n",
        "      <td> 06/17/2013</td>\n",
        "      <td>        NaN</td>\n",
        "      <td>  Not caught</td>\n",
        "    </tr>\n",
        "    <tr>\n",
        "      <th>500</th>\n",
        "      <td>          Walter Lee Williams</td>\n",
        "      <td> 06/17/2013</td>\n",
        "      <td> 06/18/2013</td>\n",
        "      <td>      Mexico</td>\n",
        "    </tr>\n",
        "  </tbody>\n",
        "</table>\n",
        "</div>"
       ],
       "metadata": {},
       "output_type": "pyout",
       "prompt_number": 5,
       "text": [
        "                             name date_put_on_list follow_up_date       result\n",
        "id                                                                            \n",
        "496        Adam Christopher Mayes       05/09/2012      5/10/2012  Mississippi\n",
        "497                  Fidel Urbina       03/14/2013            NaN   Not caught\n",
        "498  Edwin Ernesto Rivera Gracias       03/17/2013     03/27/2013  El Salvador\n",
        "499     Jose Manuel Garcia Guevra       06/17/2013            NaN   Not caught\n",
        "500           Walter Lee Williams       06/17/2013     06/18/2013       Mexico"
       ]
      }
     ],
     "prompt_number": 5
    },
    {
     "cell_type": "markdown",
     "metadata": {},
     "source": [
      "Note that all we care about is the duration of their 'survival'\n"
     ]
    },
    {
     "cell_type": "code",
     "collapsed": false,
     "input": [
      "from lifelines.utils import datetimes_to_durations"
     ],
     "language": "python",
     "metadata": {},
     "outputs": [],
     "prompt_number": 6
    },
    {
     "cell_type": "code",
     "collapsed": true,
     "input": [
      "T, E = datetimes_to_durations(fbi_data['date_put_on_list'],\n",
      "                              fbi_data['follow_up_date'],\n",
      "                              freq='M')"
     ],
     "language": "python",
     "metadata": {},
     "outputs": [
      {
       "output_type": "stream",
       "stream": "stdout",
       "text": [
        "Warning: some values of start_times are before end_times\n"
       ]
      }
     ],
     "prompt_number": 11
    },
    {
     "cell_type": "markdown",
     "metadata": {},
     "source": [
      "We notice here that there are some dates that are negitive, the easiest way to filter them out is to use the df.iloc method."
     ]
    },
    {
     "cell_type": "code",
     "collapsed": false,
     "input": [
      "fbi_data = fbi_data.iloc[np.where(T >=0)[0]] \n",
      "# this looks for all indexes where the T value is >= 0"
     ],
     "language": "python",
     "metadata": {},
     "outputs": [],
     "prompt_number": 13
    },
    {
     "cell_type": "code",
     "collapsed": false,
     "input": [
      "T, E = datetimes_to_durations(fbi_data['date_put_on_list'],\n",
      "                              fbi_data['follow_up_date'],\n",
      "                              freq='M')"
     ],
     "language": "python",
     "metadata": {},
     "outputs": [],
     "prompt_number": 17
    },
    {
     "cell_type": "code",
     "collapsed": false,
     "input": [],
     "language": "python",
     "metadata": {},
     "outputs": [
      {
       "metadata": {},
       "output_type": "pyout",
       "prompt_number": 18,
       "text": [
        "0.0"
       ]
      }
     ],
     "prompt_number": 18
    },
    {
     "cell_type": "markdown",
     "metadata": {},
     "source": [
      "### Survival Function\n",
      "\n",
      "$ S(t) = P(T>t) $"
     ]
    },
    {
     "cell_type": "markdown",
     "metadata": {},
     "source": [
      "## Kaplan-Meier estimate\n",
      "\n",
      "This is a non-parametric estimate of the survival curve from emperical data.\n",
      "\n",
      "$$\\hat{S(t)} = \\prod_{i=0}^{t} \\left( 1-\\frac{d_i}{n_i} \\right)$$\n",
      "\n",
      "Here we node that $d_i$ are the individuals that 'die' are time $i$ and $n_i$ are the number of people at risk of dying.\n",
      "\n",
      "Notice that the function itself is of one $t$, if we compute the estimate at every point $t_i$ we will get our curve.\n",
      "\n",
      "The equation itself can be derived from the following logic.\n",
      "\n",
      "$$ P(T=0) \\approx \\frac{d_0}{n_0}$$\n",
      "$$ \\Rightarrow P(T>0) \\approx \\left(1-\\frac{d_0}{n_0}\\right)$$\n",
      "$$ P(T>1) = P(T>1|T>0)P(T>0)$$\n",
      "$$ \\approx \\left(1-\\frac{d_1}{n_1}\\right) \\left(1-\\frac{d_0}{n_0}\\right)$$\n",
      "\n",
      "How are the censored data considered in the estimate? simply in $n_t$"
     ]
    },
    {
     "cell_type": "code",
     "collapsed": false,
     "input": [
      "from lifelines import KaplanMeierFitter"
     ],
     "language": "python",
     "metadata": {},
     "outputs": [],
     "prompt_number": 20
    },
    {
     "cell_type": "code",
     "collapsed": false,
     "input": [
      "kmf = KaplanMeierFitter()"
     ],
     "language": "python",
     "metadata": {},
     "outputs": [],
     "prompt_number": 22
    },
    {
     "cell_type": "code",
     "collapsed": false,
     "input": [
      "kmf.fit(T, event_observed=E)"
     ],
     "language": "python",
     "metadata": {},
     "outputs": [
      {
       "metadata": {},
       "output_type": "pyout",
       "prompt_number": 23,
       "text": [
        "<lifelines.KaplanMeierFitter: fitted with 491 observations, 12 censored>"
       ]
      }
     ],
     "prompt_number": 23
    },
    {
     "cell_type": "code",
     "collapsed": false,
     "input": [
      "kmf.survival_function_"
     ],
     "language": "python",
     "metadata": {},
     "outputs": [
      {
       "html": [
        "<div style=\"max-height:1000px;max-width:1500px;overflow:auto;\">\n",
        "<table border=\"1\" class=\"dataframe\">\n",
        "  <thead>\n",
        "    <tr style=\"text-align: right;\">\n",
        "      <th></th>\n",
        "      <th>KM-estimate</th>\n",
        "    </tr>\n",
        "    <tr>\n",
        "      <th>timeline</th>\n",
        "      <th></th>\n",
        "    </tr>\n",
        "  </thead>\n",
        "  <tbody>\n",
        "    <tr>\n",
        "      <th>0  </th>\n",
        "      <td> 0.665988</td>\n",
        "    </tr>\n",
        "    <tr>\n",
        "      <th>1  </th>\n",
        "      <td> 0.560081</td>\n",
        "    </tr>\n",
        "    <tr>\n",
        "      <th>2  </th>\n",
        "      <td> 0.486762</td>\n",
        "    </tr>\n",
        "    <tr>\n",
        "      <th>3  </th>\n",
        "      <td> 0.423625</td>\n",
        "    </tr>\n",
        "    <tr>\n",
        "      <th>4  </th>\n",
        "      <td> 0.384929</td>\n",
        "    </tr>\n",
        "    <tr>\n",
        "      <th>5  </th>\n",
        "      <td> 0.348269</td>\n",
        "    </tr>\n",
        "    <tr>\n",
        "      <th>6  </th>\n",
        "      <td> 0.334012</td>\n",
        "    </tr>\n",
        "    <tr>\n",
        "      <th>7  </th>\n",
        "      <td> 0.311609</td>\n",
        "    </tr>\n",
        "    <tr>\n",
        "      <th>8  </th>\n",
        "      <td> 0.289206</td>\n",
        "    </tr>\n",
        "    <tr>\n",
        "      <th>9  </th>\n",
        "      <td> 0.276986</td>\n",
        "    </tr>\n",
        "    <tr>\n",
        "      <th>10 </th>\n",
        "      <td> 0.266802</td>\n",
        "    </tr>\n",
        "    <tr>\n",
        "      <th>11 </th>\n",
        "      <td> 0.252546</td>\n",
        "    </tr>\n",
        "    <tr>\n",
        "      <th>12 </th>\n",
        "      <td> 0.236253</td>\n",
        "    </tr>\n",
        "    <tr>\n",
        "      <th>13 </th>\n",
        "      <td> 0.221996</td>\n",
        "    </tr>\n",
        "    <tr>\n",
        "      <th>14 </th>\n",
        "      <td> 0.211718</td>\n",
        "    </tr>\n",
        "    <tr>\n",
        "      <th>15 </th>\n",
        "      <td> 0.201441</td>\n",
        "    </tr>\n",
        "    <tr>\n",
        "      <th>16 </th>\n",
        "      <td> 0.195274</td>\n",
        "    </tr>\n",
        "    <tr>\n",
        "      <th>17 </th>\n",
        "      <td> 0.178655</td>\n",
        "    </tr>\n",
        "    <tr>\n",
        "      <th>18 </th>\n",
        "      <td> 0.174500</td>\n",
        "    </tr>\n",
        "    <tr>\n",
        "      <th>19 </th>\n",
        "      <td> 0.168268</td>\n",
        "    </tr>\n",
        "    <tr>\n",
        "      <th>21 </th>\n",
        "      <td> 0.162036</td>\n",
        "    </tr>\n",
        "    <tr>\n",
        "      <th>22 </th>\n",
        "      <td> 0.157881</td>\n",
        "    </tr>\n",
        "    <tr>\n",
        "      <th>23 </th>\n",
        "      <td> 0.155804</td>\n",
        "    </tr>\n",
        "    <tr>\n",
        "      <th>24 </th>\n",
        "      <td> 0.153726</td>\n",
        "    </tr>\n",
        "    <tr>\n",
        "      <th>25 </th>\n",
        "      <td> 0.149572</td>\n",
        "    </tr>\n",
        "    <tr>\n",
        "      <th>26 </th>\n",
        "      <td> 0.147494</td>\n",
        "    </tr>\n",
        "    <tr>\n",
        "      <th>27 </th>\n",
        "      <td> 0.145417</td>\n",
        "    </tr>\n",
        "    <tr>\n",
        "      <th>28 </th>\n",
        "      <td> 0.137107</td>\n",
        "    </tr>\n",
        "    <tr>\n",
        "      <th>29 </th>\n",
        "      <td> 0.128798</td>\n",
        "    </tr>\n",
        "    <tr>\n",
        "      <th>30 </th>\n",
        "      <td> 0.126720</td>\n",
        "    </tr>\n",
        "    <tr>\n",
        "      <th>...</th>\n",
        "      <td>...</td>\n",
        "    </tr>\n",
        "    <tr>\n",
        "      <th>57 </th>\n",
        "      <td> 0.078941</td>\n",
        "    </tr>\n",
        "    <tr>\n",
        "      <th>58 </th>\n",
        "      <td> 0.076748</td>\n",
        "    </tr>\n",
        "    <tr>\n",
        "      <th>60 </th>\n",
        "      <td> 0.070169</td>\n",
        "    </tr>\n",
        "    <tr>\n",
        "      <th>61 </th>\n",
        "      <td> 0.067977</td>\n",
        "    </tr>\n",
        "    <tr>\n",
        "      <th>64 </th>\n",
        "      <td> 0.065784</td>\n",
        "    </tr>\n",
        "    <tr>\n",
        "      <th>65 </th>\n",
        "      <td> 0.063591</td>\n",
        "    </tr>\n",
        "    <tr>\n",
        "      <th>70 </th>\n",
        "      <td> 0.061398</td>\n",
        "    </tr>\n",
        "    <tr>\n",
        "      <th>72 </th>\n",
        "      <td> 0.059205</td>\n",
        "    </tr>\n",
        "    <tr>\n",
        "      <th>75 </th>\n",
        "      <td> 0.057013</td>\n",
        "    </tr>\n",
        "    <tr>\n",
        "      <th>77 </th>\n",
        "      <td> 0.054820</td>\n",
        "    </tr>\n",
        "    <tr>\n",
        "      <th>78 </th>\n",
        "      <td> 0.052627</td>\n",
        "    </tr>\n",
        "    <tr>\n",
        "      <th>79 </th>\n",
        "      <td> 0.052627</td>\n",
        "    </tr>\n",
        "    <tr>\n",
        "      <th>85 </th>\n",
        "      <td> 0.052627</td>\n",
        "    </tr>\n",
        "    <tr>\n",
        "      <th>90 </th>\n",
        "      <td> 0.043059</td>\n",
        "    </tr>\n",
        "    <tr>\n",
        "      <th>100</th>\n",
        "      <td> 0.040666</td>\n",
        "    </tr>\n",
        "    <tr>\n",
        "      <th>110</th>\n",
        "      <td> 0.038274</td>\n",
        "    </tr>\n",
        "    <tr>\n",
        "      <th>111</th>\n",
        "      <td> 0.033490</td>\n",
        "    </tr>\n",
        "    <tr>\n",
        "      <th>113</th>\n",
        "      <td> 0.031098</td>\n",
        "    </tr>\n",
        "    <tr>\n",
        "      <th>120</th>\n",
        "      <td> 0.028706</td>\n",
        "    </tr>\n",
        "    <tr>\n",
        "      <th>142</th>\n",
        "      <td> 0.023921</td>\n",
        "    </tr>\n",
        "    <tr>\n",
        "      <th>144</th>\n",
        "      <td> 0.023921</td>\n",
        "    </tr>\n",
        "    <tr>\n",
        "      <th>165</th>\n",
        "      <td> 0.021263</td>\n",
        "    </tr>\n",
        "    <tr>\n",
        "      <th>211</th>\n",
        "      <td> 0.021263</td>\n",
        "    </tr>\n",
        "    <tr>\n",
        "      <th>220</th>\n",
        "      <td> 0.018226</td>\n",
        "    </tr>\n",
        "    <tr>\n",
        "      <th>275</th>\n",
        "      <td> 0.015188</td>\n",
        "    </tr>\n",
        "    <tr>\n",
        "      <th>297</th>\n",
        "      <td> 0.015188</td>\n",
        "    </tr>\n",
        "    <tr>\n",
        "      <th>310</th>\n",
        "      <td> 0.011391</td>\n",
        "    </tr>\n",
        "    <tr>\n",
        "      <th>362</th>\n",
        "      <td> 0.011391</td>\n",
        "    </tr>\n",
        "    <tr>\n",
        "      <th>423</th>\n",
        "      <td> 0.011391</td>\n",
        "    </tr>\n",
        "    <tr>\n",
        "      <th>526</th>\n",
        "      <td> 0.011391</td>\n",
        "    </tr>\n",
        "  </tbody>\n",
        "</table>\n",
        "<p>76 rows \u00d7 1 columns</p>\n",
        "</div>"
       ],
       "metadata": {},
       "output_type": "pyout",
       "prompt_number": 25,
       "text": [
        "          KM-estimate\n",
        "timeline             \n",
        "0            0.665988\n",
        "1            0.560081\n",
        "2            0.486762\n",
        "3            0.423625\n",
        "4            0.384929\n",
        "5            0.348269\n",
        "6            0.334012\n",
        "7            0.311609\n",
        "8            0.289206\n",
        "9            0.276986\n",
        "10           0.266802\n",
        "11           0.252546\n",
        "12           0.236253\n",
        "13           0.221996\n",
        "14           0.211718\n",
        "15           0.201441\n",
        "16           0.195274\n",
        "17           0.178655\n",
        "18           0.174500\n",
        "19           0.168268\n",
        "21           0.162036\n",
        "22           0.157881\n",
        "23           0.155804\n",
        "24           0.153726\n",
        "25           0.149572\n",
        "26           0.147494\n",
        "27           0.145417\n",
        "28           0.137107\n",
        "29           0.128798\n",
        "30           0.126720\n",
        "...               ...\n",
        "57           0.078941\n",
        "58           0.076748\n",
        "60           0.070169\n",
        "61           0.067977\n",
        "64           0.065784\n",
        "65           0.063591\n",
        "70           0.061398\n",
        "72           0.059205\n",
        "75           0.057013\n",
        "77           0.054820\n",
        "78           0.052627\n",
        "79           0.052627\n",
        "85           0.052627\n",
        "90           0.043059\n",
        "100          0.040666\n",
        "110          0.038274\n",
        "111          0.033490\n",
        "113          0.031098\n",
        "120          0.028706\n",
        "142          0.023921\n",
        "144          0.023921\n",
        "165          0.021263\n",
        "211          0.021263\n",
        "220          0.018226\n",
        "275          0.015188\n",
        "297          0.015188\n",
        "310          0.011391\n",
        "362          0.011391\n",
        "423          0.011391\n",
        "526          0.011391\n",
        "\n",
        "[76 rows x 1 columns]"
       ]
      }
     ],
     "prompt_number": 25
    },
    {
     "cell_type": "code",
     "collapsed": false,
     "input": [
      "kmf.plot()"
     ],
     "language": "python",
     "metadata": {},
     "outputs": [
      {
       "metadata": {},
       "output_type": "pyout",
       "prompt_number": 26,
       "text": [
        "<matplotlib.axes.AxesSubplot at 0x10be8def0>"
       ]
      },
      {
       "metadata": {},
       "output_type": "display_data",
       "png": "[encoded data removed]",
       "text": [
        "<matplotlib.figure.Figure at 0x10be8db38>"
       ]
      }
     ],
     "prompt_number": 26
    },
    {
     "cell_type": "code",
     "collapsed": false,
     "input": [
      "kmf.plot(ix=slice(0,20))"
     ],
     "language": "python",
     "metadata": {},
     "outputs": [
      {
       "metadata": {},
       "output_type": "pyout",
       "prompt_number": 28,
       "text": [
        "<matplotlib.axes.AxesSubplot at 0x10c8b1780>"
       ]
      },
      {
       "metadata": {},
       "output_type": "display_data",
       "png": "[encoded data removed]",
       "text": [
        "<matplotlib.figure.Figure at 0x10cb580f0>"
       ]
      }
     ],
     "prompt_number": 28
    },
    {
     "cell_type": "markdown",
     "metadata": {},
     "source": [
      "One question we might have is to ask ourselves when 50% of the people are caught. Or, $S(t) = 0.5$"
     ]
    },
    {
     "cell_type": "code",
     "collapsed": false,
     "input": [
      "kmf.median_"
     ],
     "language": "python",
     "metadata": {},
     "outputs": [
      {
       "metadata": {},
       "output_type": "pyout",
       "prompt_number": 29,
       "text": [
        "KM-estimate    2\n",
        "dtype: float64"
       ]
      }
     ],
     "prompt_number": 29
    }
   ],
   "metadata": {}
  }
 ]
}