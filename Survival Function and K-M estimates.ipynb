{
 "metadata": {
  "name": "",
  "signature": "sha256:76e2876b27444b4c760a49824cde32e9ab272c999522ed4d376cee686b9c829b"
 },
 "nbformat": 3,
 "nbformat_minor": 0,
 "worksheets": [
  {
   "cells": [
    {
     "cell_type": "heading",
     "level": 1,
     "metadata": {},
     "source": [
      "Survival Functions and k-m estimates"
     ]
    },
    {
     "cell_type": "code",
     "collapsed": false,
     "input": [
      "%pylab inline\n",
      "figsize(12, 6)"
     ],
     "language": "python",
     "metadata": {},
     "outputs": [
      {
       "output_type": "stream",
       "stream": "stdout",
       "text": [
        "Populating the interactive namespace from numpy and matplotlib\n"
       ]
      }
     ],
     "prompt_number": 1
    },
    {
     "cell_type": "code",
     "collapsed": false,
     "input": [
      "import pandas as pd\n",
      "fbi_data = pd.read_csv('fbi.csv', index_col=['id'])"
     ],
     "language": "python",
     "metadata": {},
     "outputs": [],
     "prompt_number": 2
    },
    {
     "cell_type": "code",
     "collapsed": false,
     "input": [
      "fbi_data.head()"
     ],
     "language": "python",
     "metadata": {},
     "outputs": [
      {
       "html": [
        "<div style=\"max-height:1000px;max-width:1500px;overflow:auto;\">\n",
        "<table border=\"1\" class=\"dataframe\">\n",
        "  <thead>\n",
        "    <tr style=\"text-align: right;\">\n",
        "      <th></th>\n",
        "      <th>name</th>\n",
        "      <th>date_put_on_list</th>\n",
        "      <th>follow_up_date</th>\n",
        "      <th>result</th>\n",
        "    </tr>\n",
        "    <tr>\n",
        "      <th>id</th>\n",
        "      <th></th>\n",
        "      <th></th>\n",
        "      <th></th>\n",
        "      <th></th>\n",
        "    </tr>\n",
        "  </thead>\n",
        "  <tbody>\n",
        "    <tr>\n",
        "      <th>1</th>\n",
        "      <td>     Thomas James Holden</td>\n",
        "      <td> 3/14/1950</td>\n",
        "      <td>  6/23/1951</td>\n",
        "      <td>       Oregon</td>\n",
        "    </tr>\n",
        "    <tr>\n",
        "      <th>2</th>\n",
        "      <td>      Morley Vernon King</td>\n",
        "      <td> 3/15/1950</td>\n",
        "      <td> 10/31/1951</td>\n",
        "      <td> Pennsylvania</td>\n",
        "    </tr>\n",
        "    <tr>\n",
        "      <th>3</th>\n",
        "      <td>  William Raymond Nesbit</td>\n",
        "      <td> 3/16/1950</td>\n",
        "      <td>  3/18/1950</td>\n",
        "      <td>    Minnesota</td>\n",
        "    </tr>\n",
        "    <tr>\n",
        "      <th>4</th>\n",
        "      <td> Henry Randolph Mitchell</td>\n",
        "      <td> 3/17/1950</td>\n",
        "      <td>  7/18/1958</td>\n",
        "      <td>    Dismissed</td>\n",
        "    </tr>\n",
        "    <tr>\n",
        "      <th>5</th>\n",
        "      <td>      Omar August Pinson</td>\n",
        "      <td> 3/18/1950</td>\n",
        "      <td>  8/28/1950</td>\n",
        "      <td> South Dakota</td>\n",
        "    </tr>\n",
        "  </tbody>\n",
        "</table>\n",
        "</div>"
       ],
       "metadata": {},
       "output_type": "pyout",
       "prompt_number": 3,
       "text": [
        "                       name date_put_on_list follow_up_date        result\n",
        "id                                                                       \n",
        "1       Thomas James Holden        3/14/1950      6/23/1951        Oregon\n",
        "2        Morley Vernon King        3/15/1950     10/31/1951  Pennsylvania\n",
        "3    William Raymond Nesbit        3/16/1950      3/18/1950     Minnesota\n",
        "4   Henry Randolph Mitchell        3/17/1950      7/18/1958     Dismissed\n",
        "5        Omar August Pinson        3/18/1950      8/28/1950  South Dakota"
       ]
      }
     ],
     "prompt_number": 3
    },
    {
     "cell_type": "code",
     "collapsed": false,
     "input": [
      "fbi_data.tail()"
     ],
     "language": "python",
     "metadata": {},
     "outputs": [
      {
       "html": [
        "<div style=\"max-height:1000px;max-width:1500px;overflow:auto;\">\n",
        "<table border=\"1\" class=\"dataframe\">\n",
        "  <thead>\n",
        "    <tr style=\"text-align: right;\">\n",
        "      <th></th>\n",
        "      <th>name</th>\n",
        "      <th>date_put_on_list</th>\n",
        "      <th>follow_up_date</th>\n",
        "      <th>result</th>\n",
        "    </tr>\n",
        "    <tr>\n",
        "      <th>id</th>\n",
        "      <th></th>\n",
        "      <th></th>\n",
        "      <th></th>\n",
        "      <th></th>\n",
        "    </tr>\n",
        "  </thead>\n",
        "  <tbody>\n",
        "    <tr>\n",
        "      <th>496</th>\n",
        "      <td>       Adam Christopher Mayes</td>\n",
        "      <td> 05/09/2012</td>\n",
        "      <td>  5/10/2012</td>\n",
        "      <td> Mississippi</td>\n",
        "    </tr>\n",
        "    <tr>\n",
        "      <th>497</th>\n",
        "      <td>                 Fidel Urbina</td>\n",
        "      <td> 03/14/2013</td>\n",
        "      <td>        NaN</td>\n",
        "      <td>  Not caught</td>\n",
        "    </tr>\n",
        "    <tr>\n",
        "      <th>498</th>\n",
        "      <td> Edwin Ernesto Rivera Gracias</td>\n",
        "      <td> 03/17/2013</td>\n",
        "      <td> 03/27/2013</td>\n",
        "      <td> El Salvador</td>\n",
        "    </tr>\n",
        "    <tr>\n",
        "      <th>499</th>\n",
        "      <td>    Jose Manuel Garcia Guevra</td>\n",
        "      <td> 06/17/2013</td>\n",
        "      <td>        NaN</td>\n",
        "      <td>  Not caught</td>\n",
        "    </tr>\n",
        "    <tr>\n",
        "      <th>500</th>\n",
        "      <td>          Walter Lee Williams</td>\n",
        "      <td> 06/17/2013</td>\n",
        "      <td> 06/18/2013</td>\n",
        "      <td>      Mexico</td>\n",
        "    </tr>\n",
        "  </tbody>\n",
        "</table>\n",
        "</div>"
       ],
       "metadata": {},
       "output_type": "pyout",
       "prompt_number": 4,
       "text": [
        "                             name date_put_on_list follow_up_date       result\n",
        "id                                                                            \n",
        "496        Adam Christopher Mayes       05/09/2012      5/10/2012  Mississippi\n",
        "497                  Fidel Urbina       03/14/2013            NaN   Not caught\n",
        "498  Edwin Ernesto Rivera Gracias       03/17/2013     03/27/2013  El Salvador\n",
        "499     Jose Manuel Garcia Guevra       06/17/2013            NaN   Not caught\n",
        "500           Walter Lee Williams       06/17/2013     06/18/2013       Mexico"
       ]
      }
     ],
     "prompt_number": 4
    },
    {
     "cell_type": "markdown",
     "metadata": {},
     "source": [
      "Note that all we care about is the duration of their 'survival'\n"
     ]
    },
    {
     "cell_type": "code",
     "collapsed": false,
     "input": [
      "from lifelines.utils import datetimes_to_durations"
     ],
     "language": "python",
     "metadata": {},
     "outputs": [],
     "prompt_number": 5
    },
    {
     "cell_type": "code",
     "collapsed": true,
     "input": [
      "T, E = datetimes_to_durations(fbi_data['date_put_on_list'],\n",
      "                              fbi_data['follow_up_date'],\n",
      "                              freq='M')"
     ],
     "language": "python",
     "metadata": {},
     "outputs": [
      {
       "output_type": "stream",
       "stream": "stdout",
       "text": [
        "Warning: some values of start_times are before end_times\n"
       ]
      },
      {
       "output_type": "stream",
       "stream": "stderr",
       "text": [
        "/Library/Frameworks/Python.framework/Versions/3.4/lib/python3.4/site-packages/pandas/computation/expressions.py:184: UserWarning: evaluating in Python space because the '+' operator is not supported by numexpr for the bool dtype, use '|' instead\n",
        "  unsupported[op_str]))\n"
       ]
      }
     ],
     "prompt_number": 6
    },
    {
     "cell_type": "code",
     "collapsed": false,
     "input": [],
     "language": "python",
     "metadata": {},
     "outputs": []
    },
    {
     "cell_type": "markdown",
     "metadata": {},
     "source": [
      "We notice here that there are some dates that are negitive, the easiest way to filter them out is to use the df.iloc method."
     ]
    },
    {
     "cell_type": "code",
     "collapsed": false,
     "input": [
      "fbi_data = fbi_data.iloc[np.where(T >=0)[0]] \n",
      "# this looks for all indexes where the T value is >= 0"
     ],
     "language": "python",
     "metadata": {},
     "outputs": [],
     "prompt_number": 7
    },
    {
     "cell_type": "code",
     "collapsed": false,
     "input": [
      "T, E = datetimes_to_durations(fbi_data['date_put_on_list'],\n",
      "                              fbi_data['follow_up_date'],\n",
      "                              freq='M')"
     ],
     "language": "python",
     "metadata": {},
     "outputs": [],
     "prompt_number": 8
    },
    {
     "cell_type": "code",
     "collapsed": false,
     "input": [],
     "language": "python",
     "metadata": {},
     "outputs": [],
     "prompt_number": 8
    },
    {
     "cell_type": "markdown",
     "metadata": {},
     "source": [
      "### Survival Function\n",
      "\n",
      "$ S(t) = P(T>t) $"
     ]
    },
    {
     "cell_type": "markdown",
     "metadata": {},
     "source": [
      "## Kaplan-Meier estimate\n",
      "\n",
      "This is a non-parametric estimate of the survival curve from emperical data.\n",
      "\n",
      "$$\\hat{S(t)} = \\prod_{i=0}^{t} \\left( 1-\\frac{d_i}{n_i} \\right)$$\n",
      "\n",
      "Here we node that $d_i$ are the individuals that 'die' are time $i$ and $n_i$ are the number of people at risk of dying.\n",
      "\n",
      "Notice that the function itself is of one $t$, if we compute the estimate at every point $t_i$ we will get our curve.\n",
      "\n",
      "The equation itself can be derived from the following logic.\n",
      "\n",
      "$$ P(T=0) \\approx \\frac{d_0}{n_0}$$\n",
      "$$ \\Rightarrow P(T>0) \\approx \\left(1-\\frac{d_0}{n_0}\\right)$$\n",
      "$$ P(T>1) = P(T>1|T>0)P(T>0)$$\n",
      "$$ \\approx \\left(1-\\frac{d_1}{n_1}\\right) \\left(1-\\frac{d_0}{n_0}\\right)$$\n",
      "\n",
      "How are the censored data considered in the estimate? simply in $n_t$"
     ]
    },
    {
     "cell_type": "code",
     "collapsed": false,
     "input": [
      "from lifelines import KaplanMeierFitter"
     ],
     "language": "python",
     "metadata": {},
     "outputs": [],
     "prompt_number": 9
    },
    {
     "cell_type": "code",
     "collapsed": false,
     "input": [
      "kmf = KaplanMeierFitter()"
     ],
     "language": "python",
     "metadata": {},
     "outputs": [],
     "prompt_number": 10
    },
    {
     "cell_type": "code",
     "collapsed": false,
     "input": [
      "kmf.fit(T, event_observed=E)"
     ],
     "language": "python",
     "metadata": {},
     "outputs": [
      {
       "metadata": {},
       "output_type": "pyout",
       "prompt_number": 11,
       "text": [
        "<lifelines.KaplanMeierFitter: fitted with 491 observations, 12 censored>"
       ]
      }
     ],
     "prompt_number": 11
    },
    {
     "cell_type": "code",
     "collapsed": false,
     "input": [
      "kmf.survival_function_.head()"
     ],
     "language": "python",
     "metadata": {},
     "outputs": [
      {
       "html": [
        "<div style=\"max-height:1000px;max-width:1500px;overflow:auto;\">\n",
        "<table border=\"1\" class=\"dataframe\">\n",
        "  <thead>\n",
        "    <tr style=\"text-align: right;\">\n",
        "      <th></th>\n",
        "      <th>KM-estimate</th>\n",
        "    </tr>\n",
        "    <tr>\n",
        "      <th>timeline</th>\n",
        "      <th></th>\n",
        "    </tr>\n",
        "  </thead>\n",
        "  <tbody>\n",
        "    <tr>\n",
        "      <th>0</th>\n",
        "      <td> 0.665988</td>\n",
        "    </tr>\n",
        "    <tr>\n",
        "      <th>1</th>\n",
        "      <td> 0.560081</td>\n",
        "    </tr>\n",
        "    <tr>\n",
        "      <th>2</th>\n",
        "      <td> 0.486762</td>\n",
        "    </tr>\n",
        "    <tr>\n",
        "      <th>3</th>\n",
        "      <td> 0.423625</td>\n",
        "    </tr>\n",
        "    <tr>\n",
        "      <th>4</th>\n",
        "      <td> 0.384929</td>\n",
        "    </tr>\n",
        "  </tbody>\n",
        "</table>\n",
        "</div>"
       ],
       "metadata": {},
       "output_type": "pyout",
       "prompt_number": 12,
       "text": [
        "          KM-estimate\n",
        "timeline             \n",
        "0            0.665988\n",
        "1            0.560081\n",
        "2            0.486762\n",
        "3            0.423625\n",
        "4            0.384929"
       ]
      }
     ],
     "prompt_number": 12
    },
    {
     "cell_type": "code",
     "collapsed": false,
     "input": [
      "kmf.plot()"
     ],
     "language": "python",
     "metadata": {},
     "outputs": [
      {
       "metadata": {},
       "output_type": "pyout",
       "prompt_number": 13,
       "text": [
        "<matplotlib.axes.AxesSubplot at 0x10c326ef0>"
       ]
      },
      {
       "metadata": {},
       "output_type": "display_data",
       "png": "[encoded data removed]",
       "text": [
        "<matplotlib.figure.Figure at 0x10c3266a0>"
       ]
      }
     ],
     "prompt_number": 13
    },
    {
     "cell_type": "code",
     "collapsed": false,
     "input": [
      "kmf.plot(ix=slice(0,20))"
     ],
     "language": "python",
     "metadata": {},
     "outputs": [
      {
       "metadata": {},
       "output_type": "pyout",
       "prompt_number": 14,
       "text": [
        "<matplotlib.axes.AxesSubplot at 0x10c3916a0>"
       ]
      },
      {
       "metadata": {},
       "output_type": "display_data",
       "png": "[encoded data removed]",
       "text": [
        "<matplotlib.figure.Figure at 0x10c574400>"
       ]
      }
     ],
     "prompt_number": 14
    },
    {
     "cell_type": "markdown",
     "metadata": {},
     "source": [
      "One question we might have is to ask ourselves when 50% of the people are caught. Or, $S(t) = 0.5$"
     ]
    },
    {
     "cell_type": "code",
     "collapsed": false,
     "input": [
      "kmf.median_"
     ],
     "language": "python",
     "metadata": {},
     "outputs": [
      {
       "metadata": {},
       "output_type": "pyout",
       "prompt_number": 29,
       "text": [
        "KM-estimate    2\n",
        "dtype: float64"
       ]
      }
     ],
     "prompt_number": 29
    }
   ],
   "metadata": {}
  }
 ]
}