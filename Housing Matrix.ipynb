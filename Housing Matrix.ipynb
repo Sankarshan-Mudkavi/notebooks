{
 "metadata": {
  "name": "",
  "signature": "sha256:0c2dc23f4e158b63b6750e5419796473b45cf6b0f580843b4e97e2b73785d22c"
 },
 "nbformat": 3,
 "nbformat_minor": 0,
 "worksheets": [
  {
   "cells": [
    {
     "cell_type": "code",
     "collapsed": false,
     "input": [
      "import pandas as pd\n",
      "import numpy as np"
     ],
     "language": "python",
     "metadata": {},
     "outputs": [],
     "prompt_number": 3
    },
    {
     "cell_type": "code",
     "collapsed": false,
     "input": [
      "#schema distance, commute, commute costs, housing-cost, \n",
      "\n",
      "home      = np.array([ 41, 1.5, 240,    0])\n",
      "ben       = np.array([ 13, 0.9, 108,  400])\n",
      "parkdale  = np.array([6.8,  .3, 108,  870])\n",
      "lilitaly  = np.array([6.8,  .3, 108,  970])"
     ],
     "language": "python",
     "metadata": {},
     "outputs": [],
     "prompt_number": 4
    },
    {
     "cell_type": "code",
     "collapsed": false,
     "input": [
      "max_distance = 41.\n",
      "max_commute = 1.5\n",
      "max_cost = 240.\n",
      "max_housing = 970.\n",
      "\n",
      "md = np.array([max_distance, max_commute, max_cost, max_housing])"
     ],
     "language": "python",
     "metadata": {},
     "outputs": [],
     "prompt_number": 10
    },
    {
     "cell_type": "code",
     "collapsed": false,
     "input": [
      "print(\"Home\",sum(home / md))"
     ],
     "language": "python",
     "metadata": {},
     "outputs": [
      {
       "output_type": "stream",
       "stream": "stdout",
       "text": [
        "Home 3.0\n"
       ]
      }
     ],
     "prompt_number": 13
    },
    {
     "cell_type": "code",
     "collapsed": false,
     "input": [
      "print(\"Ben\",sum(ben / md))"
     ],
     "language": "python",
     "metadata": {},
     "outputs": [
      {
       "output_type": "stream",
       "stream": "stdout",
       "text": [
        "Ben 1.77944430475\n"
       ]
      }
     ],
     "prompt_number": 15
    },
    {
     "cell_type": "code",
     "collapsed": false,
     "input": [
      "print(\"Park\", sum(parkdale/md))"
     ],
     "language": "python",
     "metadata": {},
     "outputs": [
      {
       "output_type": "stream",
       "stream": "stdout",
       "text": [
        "Park 1.71276087503\n"
       ]
      }
     ],
     "prompt_number": 16
    },
    {
     "cell_type": "code",
     "collapsed": false,
     "input": [
      "print(\"lil\", sum(lilitaly/md))"
     ],
     "language": "python",
     "metadata": {},
     "outputs": [
      {
       "output_type": "stream",
       "stream": "stdout",
       "text": [
        "lil 1.81585365854\n"
       ]
      }
     ],
     "prompt_number": 17
    },
    {
     "cell_type": "code",
     "collapsed": false,
     "input": [],
     "language": "python",
     "metadata": {},
     "outputs": []
    }
   ],
   "metadata": {}
  }
 ]
}